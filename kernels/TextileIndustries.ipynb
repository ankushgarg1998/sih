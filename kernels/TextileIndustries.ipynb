{
 "cells": [
  {
   "cell_type": "code",
   "execution_count": 22,
   "metadata": {},
   "outputs": [],
   "source": [
    "import pandas as pd\n",
    "import numpy as np\n",
    "\n",
    "import tensorflow as tf\n",
    "\n",
    "from keras.models import Sequential\n",
    "from keras.layers import Dense, Dropout, LSTM, CuDNNLSTM\n",
    "\n",
    "from matplotlib import pyplot as plt\n",
    "\n",
    "import requests"
   ]
  },
  {
   "cell_type": "code",
   "execution_count": 4,
   "metadata": {},
   "outputs": [],
   "source": [
    "string = '<li>Aarvee Denims &amp; Exports Ltd<\\/li>\\n<li>Abhishek Corporation Ltd<\\/li>\\n<li>Acil Cotton Inds Ltd<\\/li>\\n<li>Acknit Knitting Ltd<\\/li>\\n<li>Acrow India Ltd.<\\/li>\\n<li>Addi Industries Ltd<\\/li>\\n<li>Adinath Textiles Ltd<\\/li>\\n<li>Alchemist Corporation Ltd<\\/li>\\n<li>Alka India Ltd<\\/li>\\n<li>Alok Industries Limited<\\/li>\\n<li>Alpha Graphic India Ltd<\\/li>\\n<li>Alps Industries Ltd<\\/li>\\n<li>Ambika Cotton Mills Ltd<\\/li>\\n<li>Amit International Ltd.<\\/li>\\n<li>Anjani Synthetics Ltd<\\/li>\\n<li>APM Industries Ltd<\\/li>\\n<li>Arex Industries Ltd<\\/li>\\n<li>Arrow Textiles Ltd<\\/li>\\n<li>Arunoday Mills Ltd.<\\/li>\\n<li>Arvind Mills Limited<\\/li>\\n<li>Arvind Products Ltd<\\/li>\\n<li>Asahi Fibres Ltd.<\\/li>\\n<li>Ashima Ltd<\\/li>\\n<li>Ashnoor Textile Mills Ltd<\\/li>\\n<li>Aunde Faze Three Ltd<\\/li>\\n<li>AV Cottex Ltd<\\/li>\\n<li>Aviva Industries Ltd<\\/li>\\n<li>B&amp;B Realty Ltd<\\/li>\\n<li>Bafna Spinning Mills &amp; Exports Ltd<\\/li>\\n<li>Bala Techno Synthetics Ltd<\\/li>\\n<li>Bang Overseas Ltd<\\/li>\\n<li>Bannari Amman Spinning Mills Ltd<\\/li>\\n<li>Baroda Rayon Corpn. Ltd<\\/li>\\n<li>Bengal Tea &amp; Fabrics Ltd<\\/li>\\n<li>Bhandari Hosiery Exports Ltd<\\/li>\\n<li>Bhandari Udhyog Ltd<\\/li>\\n<li>Bhilwara Spinners Ltd<\\/li>\\n<li>Bhilwara Tex-Fin Ltd<\\/li>\\n<li>Bholanath International Ltd<\\/li>\\n<li>Bijlee Textiles Ltd<\\/li>\\n<li>Binayak Tex Processors Ltd<\\/li>\\n<li>Birla Cotsyn (India) Ltd<\\/li>\\n<li>Black Rose Inds. Ltd<\\/li>\\n<li>Blue Chip Tex Inds. Ltd<\\/li>\\n<li>Bombay Burmah Trdg. Corpn. Ltd.<\\/li>\\n<li>Bombay Rayon Fashions Limited<\\/li>\\n<li>BSL Ltd<\\/li>\\n<li>Ceenik Exports (India) Ltd<\\/li>\\n<li>Ceeta Industries Ltd<\\/li>\\n<li>Celebrity Fashions Ltd<\\/li>\\n<li>Century Enka Limited<\\/li>\\n<li>Century Textiles &amp; Industries. Ltd.<\\/li>\\n<li>Chandni Textiles Ltd<\\/li>\\n<li>Cheviot Company Ltd<\\/li>\\n<li>Chhabra Spinners Ltd<\\/li>\\n<li>Consolidated Fibres &amp; Chemicals Ltd<\\/li>\\n<li>CT Cotton Yarn Ltd.<\\/li>\\n<li>DCM Ltd.<\\/li>\\n<li>Deepak Spinners Ltd<\\/li>\\n<li>Dhanlaxmi Cotex Ltd<\\/li>\\n<li>Dhar Textile Mills Ltd<\\/li>\\n<li>Donear Industries Ltd<\\/li>\\n<li>Eastern Silk Inds. Ltd.<\\/li>\\n<li>Ennore Coke Ltd<\\/li>\\n<li>Enterprise International Ltd<\\/li>\\n<li>Eskay K&#8217;N&#8217;It (India) Ltd<\\/li>\\n<li>Everlon Synthetics Ltd<\\/li>\\n<li>Evinix Accessories Ltd<\\/li>\\n<li>Fairdeal Filaments Ltd<\\/li>\\n<li>Faze Three Ltd<\\/li>\\n<li>Filaments India Ltd<\\/li>\\n<li>Filatex Fashions Ltd<\\/li>\\n<li>Filatex India Ltd<\\/li>\\n<li>First Winner Industries Ltd<\\/li>\\n<li>Futura Polyesters Ltd<\\/li>\\n<li>Ganesh Polytex Ltd<\\/li>\\n<li>Garden Silk Mills Limited<\\/li>\\n<li>Garlon Polyfab Inds. Ltd<\\/li>\\n<li>Garware Synthetics Ltd<\\/li>\\n<li>Garware-Wall Ropes Ltd<\\/li>\\n<li>Ginni Filaments Ltd<\\/li>\\n<li>Gloster Jute Mills Ltd<\\/li>\\n<li>Gokak Textiles Ltd<\\/li>\\n<li>Gokaldas Exports Limited<\\/li>\\n<li>Golden Carpets Ltd<\\/li>\\n<li>Grabal Alok Impex Ltd<\\/li>\\n<li>Gravity (India) Ltd<\\/li>\\n<li>GTN Industries Ltd<\\/li>\\n<li>GTN Textiles Ltd<\\/li>\\n<li>Gujarat Cotex Ltd<\\/li>\\n<li>Gupta Synthetics Ltd<\\/li>\\n<li>Hanil Era Textiles Ltd<\\/li>\\n<li>Hanjer Fibres Ltd<\\/li>\\n<li>Haria Exports Ltd<\\/li>\\n<li>Haryana Texprints (Overseas) Ltd<\\/li>\\n<li>Himatsingka Seide Ltd<\\/li>\\n<li>Hindoostan Spinning &amp; Wvg. Mills Ltd.<\\/li>\\n<li>House Of Pearl Fashions Ltd<\\/li>\\n<li>Hytone Texstyles Ltd<\\/li>\\n<li>Ideal Carpets Ltd<\\/li>\\n<li>Indian Card Clothing Company Ltd<\\/li>\\n<li>Indo Rama Synthetics (India) Limited<\\/li>\\n<li>Indus Fila Ltd<\\/li>\\n<li>International Hometex Ltd<\\/li>\\n<li>Jagjanani Textiles Ltd<\\/li>\\n<li>Jaihind Synthetics Ltd<\\/li>\\n<li>Jamshri Ranjitsinghji Spg. &amp; Wvg. Mills Company Ltd<\\/li>\\n<li>Janice Textiles Ltd<\\/li>\\n<li>Jaybharat Textiles &amp; Real Estate Ltd<\\/li>\\n<li>JBF Industries Ltd<\\/li>\\n<li>JCT Limited<\\/li>\\n<li>JJ Exporters Ltd<\\/li>\\n<li>JK Synthetics Ltd<\\/li>\\n<li>Jyoti Overseas Ltd<\\/li>\\n<li>Kallam Spinning Mills Ltd<\\/li>\\n<li>Kanco Enterprises Ltd<\\/li>\\n<li>Kapil Cotex Ltd<\\/li>\\n<li>Karan Woo-Sin Ltd<\\/li>\\n<li>Katare Spinning Mills Ltd.<\\/li>\\n<li>Ken Financial Services Ltd<\\/li>\\n<li>Kesoram Industries Ltd.<\\/li>\\n<li>Kewal Kiran Clothing Ltd<\\/li>\\n<li>KG Denim Ltd<\\/li>\\n<li>Knitworth Exports Ltd<\\/li>\\n<li>Konark Synthetic Ltd<\\/li>\\n<li>Kothari Industrial Corpn. Ltd<\\/li>\\n<li>KPR Mill Ltd<\\/li>\\n<li>Krishna Lifestyle Technologies Ltd<\\/li>\\n<li>KSL &amp; Industries Ltd<\\/li>\\n<li>Kuvam International Fashions Ltd<\\/li>\\n<li>Lakshmi Machine Works Ltd<\\/li>\\n<li>Lakshmi Mills Company Ltd.<\\/li>\\n<li>Lambodhara Textiles Ltd.<\\/li>\\n<li>Lloyd Rock fibres Ltd<\\/li>\\n<li>LN Polyesters Ltd<\\/li>\\n<li>Loyal Textile Mills Ltd<\\/li>\\n<li>LS Inds Ltd<\\/li>\\n<li>Ludlow Jute &amp; Specialities Ltd<\\/li>\\n<li>Mafatlal Industries Ltd<\\/li>\\n<li>Maharaja Shree Umaid Mills Ltd<\\/li>\\n<li>Mahendra Petrochemicals Ltd<\\/li>\\n<li>Maikaal Fibres Ltd<\\/li>\\n<li>Malwa Cotton Spg. Mills Ltd.<\\/li>\\n<li>Mangalam Ventures Ltd<\\/li>\\n<li>Maris Spinners Ltd.<\\/li>\\n<li>Mavi Industries Ltd<\\/li>\\n<li>Maxwell Industries Ltd<\\/li>\\n<li>MH Mills &amp; Inds. Ltd<\\/li>\\n<li>Mid India Inds. Ltd<\\/li>\\n<li>Minaxi Textiles Ltd<\\/li>\\n<li>MK Exim (India) Ltd<\\/li>\\n<li>Modern India Ltd.<\\/li>\\n<li>Mohit Industries Ltd<\\/li>\\n<li>Morarjee Textiles Ltd<\\/li>\\n<li>MPIL Corpn. Ltd<\\/li>\\n<li>Mudra Lifestyle Ltd<\\/li>\\n<li>Nachmo Knitex Ltd<\\/li>\\n<li>Nahar Industrial Enterprises Ltd<\\/li>\\n<li>Nahar Poly Films Ltd<\\/li>\\n<li>Nahar Spinning Mills Ltd<\\/li>\\n<li>National Aluminium Company Ltd<\\/li>\\n<li>Nirlon Ltd<\\/li>\\n<li>Niryat-Sam Apparels (India) Ltd<\\/li>\\n<li>Nitin Spinners Ltd<\\/li>\\n<li>Nova Petrochemicals Ltd<\\/li>\\n<li>Numech Emballage Ltd<\\/li>\\n<li>Nutech Global Ltd.<\\/li>\\n<li>Oasis Finvest Ltd<\\/li>\\n<li>Omnitex Industries (India) Ltd<\\/li>\\n<li>Orbit Exports Ltd<\\/li>\\n<li>Oswal Spinning &amp; Wvg. Mills Ltd<\\/li>\\n<li>Oswal Yarns Ltd<\\/li>\\n<li>Oxford Industries Ltd<\\/li>\\n<li>Pacific Cotspin Ltd<\\/li>\\n<li>Padam Cotton Yarns Ltd.<\\/li>\\n<li>Page Industries Ltd<\\/li>\\n<li>Pasupati Acrylon Ltd<\\/li>\\n<li>Pasupati Fabrics Ltd<\\/li>\\n<li>Pasupati Spinning &amp; Wvg. Mills Ltd.<\\/li>\\n<li>Patspin India Ltd<\\/li>\\n<li>PBM Polytex Ltd<\\/li>\\n<li>Pioneer Embroideries Ltd<\\/li>\\n<li>Poddar Developers Ltd<\\/li>\\n<li>Polypro Fibrils (India) Ltd.<\\/li>\\n<li>Prag Bosimi Synthetics Ltd<\\/li>\\n<li>Prakash Woollen Mills Ltd<\\/li>\\n<li>Pranavaditya Spinning Mills Ltd<\\/li>\\n<li>Precot Meridian Ltd<\\/li>\\n<li>Premco Global Ltd<\\/li>\\n<li>Punjab Woolcombers Ltd<\\/li>\\n<li>Raghuvir Synthetics Ltd.<\\/li>\\n<li>Rai Saheb Rekhchand Mohota Spg. &amp; Wvg. Mills Ltd<\\/li>\\n<li>Rainbow Denim Ltd<\\/li>\\n<li>Rajapalayam Mills Ltd<\\/li>\\n<li>Rajasthan Polyesters Ltd<\\/li>\\n<li>Rajvir Industries Ltd<\\/li>\\n<li>Raymond Limited<\\/li>\\n<li>Reliance Chemotex Inds. Ltd.<\\/li>\\n<li>Riba Textiles Ltd<\\/li>\\n<li>Richa Industries Ltd<\\/li>\\n<li>RM Mohite Textiles Ltd<\\/li>\\n<li>Rosekamal Textiles Ltd<\\/li>\\n<li>RSWM Ltd<\\/li>\\n<li>Ruby Mills Ltd.<\\/li>\\n<li>S Kumars Nationwide Ltd<\\/li>\\n<li>S&amp;Y Mills Ltd<\\/li>\\n<li>Salona Cotspin Ltd<\\/li>\\n<li>Sangam (India) Ltd<\\/li>\\n<li>Sanghi Polyesters Ltd<\\/li>\\n<li>Sanrhea Technical Textiles Ltd<\\/li>\\n<li>Santaram Spinners Ltd.<\\/li>\\n<li>Santogen Exports Ltd<\\/li>\\n<li>Santosh Fine-Fab Ltd<\\/li>\\n<li>Sarita Synthetics &amp; Inds. Ltd<\\/li>\\n<li>Sarla Performance Fibres Ltd<\\/li>\\n<li>Schlafhorst Engineering (India) Ltd<\\/li>\\n<li>Seasons Textiles Ltd<\\/li>\\n<li>SEL Manufacturing Company Ltd<\\/li>\\n<li>Shamken Cotsyn Ltd<\\/li>\\n<li>Shamken Multifab Ltd<\\/li>\\n<li>Shamken Spinners Ltd<\\/li>\\n<li>Shiva Texyarn Ltd<\\/li>\\n<li>Shree Ram Urban Infrastructure Ltd.<\\/li>\\n<li>Shri Ganesh Spinners Ltd<\\/li>\\n<li>Shri Lakshmi Cotsyn Ltd<\\/li>\\n<li>Siddheswari Garments Ltd<\\/li>\\n<li>Silktex Ltd<\\/li>\\n<li>Sirdar Carbonic Gas Company Ltd<\\/li>\\n<li>SNS Textiles Ltd<\\/li>\\n<li>Spectacle Industries Ltd<\\/li>\\n<li>Spenta International Ltd<\\/li>\\n<li>Spice Islands Apparels Ltd<\\/li>\\n<li>SPL Industries Ltd<\\/li>\\n<li>SR Industries Ltd<\\/li>\\n<li>Sree Jayalakshmi Autospin Ltd<\\/li>\\n<li>Sri Jayalakshmi Spg. Mills Ltd<\\/li>\\n<li>SRM Energy Ltd.<\\/li>\\n<li>STI India Ltd<\\/li>\\n<li>STL Global Ltd.<\\/li>\\n<li>Stovec Industries Ltd<\\/li>\\n<li>Subhash Silk Mills Ltd<\\/li>\\n<li>Sumeet Industries Ltd<\\/li>\\n<li>Sun Polytron Inds. Ltd<\\/li>\\n<li>Suncity Synthetics Ltd<\\/li>\\n<li>Sunday Exports Ltd<\\/li>\\n<li>Super Sales India Ltd<\\/li>\\n<li>Super Syncotex (India) Ltd.<\\/li>\\n<li>Supertex Industries Ltd<\\/li>\\n<li>Supreme Tex Mart Ltd<\\/li>\\n<li>Surat Textile Mills Ltd<\\/li>\\n<li>Suryaamba Spinning Mills Ltd.<\\/li>\\n<li>Suryalata Spinning Mills Ltd<\\/li>\\n<li>Suryavanshi Spinning Mills Ltd<\\/li>\\n<li>Sutlej Textiles &amp; Inds. Ltd<\\/li>\\n<li>Swan Energy Ltd<\\/li>\\n<li>Swasti Vinayaka Synthetics Ltd<\\/li>\\n<li>Sybly Industries Ltd.<\\/li>\\n<li>Tai Chonbang Textile Inds. Ltd<\\/li>\\n<li>Thambbi Modern Spg. Mills Ltd<\\/li>\\n<li>The Bombay Dyeing and Manufacturing Company Limited<\\/li>\\n<li>TT Ltd<\\/li>\\n<li>Unimin India Ltd<\\/li>\\n<li>Uniproducts (India) Ltd<\\/li>\\n<li>United Interactive Ltd.<\\/li>\\n<li>Unitex Designs Ltd<\\/li>\\n<li>Uniworth Ltd<\\/li>\\n<li>Uniworth Textiles Ltd.<\\/li>\\n<li>Valson Industries Ltd<\\/li>\\n<li>Vardhman Acrylics Ltd<\\/li>\\n<li>Vardhman Polytex Ltd<\\/li>\\n<li>Vardhman Textiles Limited<\\/li>\\n<li>Veejay Lakshmi Engg. Works Ltd<\\/li>\\n<li>Ventura Textiles Ltd<\\/li>\\n<li>Vertex Spinning Ltd<\\/li>\\n<li>Victoria Mills Ltd.<\\/li>\\n<li>Vijay Textiles Ltd<\\/li>\\n<li>Vijayeswari Textiles Ltd<\\/li>\\n<li>Vippy Spinpro Ltd<\\/li>\\n<li>Virat Industries Ltd<\\/li>\\n<li>Vishal Cotspin Ltd<\\/li>\\n<li>Vogue Textiles Ltd<\\/li>\\n<li>Volant Textile Mills Ltd<\\/li>\\n<li>VTM Ltd<\\/li>\\n<li>Vyapar Industries Ltd<\\/li>\\n<li>Weizmann Ltd<\\/li>\\n<li>Welspun India Limited<\\/li>\\n<li>Welspun Syntex Ltd<\\/li>\\n<li>Western India Cottons Ltd<\\/li>\\n<li>Wheel &amp; Axle Textiles Ltd<\\/li>\\n<li>White House Cotton Inds. Ltd<\\/li>\\n<li>Winsome Textile Inds. Ltd<\\/li>\\n<li>Winsome Yarns Ltd<\\/li>\\n<li>Yarn Syndicate Ltd<\\/li>\\n<li>Zenith Fibres Ltd<\\/li>\\n'"
   ]
  },
  {
   "cell_type": "code",
   "execution_count": 6,
   "metadata": {},
   "outputs": [],
   "source": [
    "string = string.replace('<\\/li>', '')"
   ]
  },
  {
   "cell_type": "code",
   "execution_count": 7,
   "metadata": {},
   "outputs": [],
   "source": [
    "string = string.replace('<li>', '')"
   ]
  },
  {
   "cell_type": "code",
   "execution_count": 9,
   "metadata": {},
   "outputs": [],
   "source": [
    "li = string.split('\\n')"
   ]
  },
  {
   "cell_type": "code",
   "execution_count": 17,
   "metadata": {},
   "outputs": [],
   "source": [
    "del li[294]"
   ]
  },
  {
   "cell_type": "code",
   "execution_count": 21,
   "metadata": {},
   "outputs": [
    {
     "data": {
      "text/plain": [
       "294"
      ]
     },
     "execution_count": 21,
     "metadata": {},
     "output_type": "execute_result"
    }
   ],
   "source": [
    "len(li)"
   ]
  },
  {
   "cell_type": "code",
   "execution_count": null,
   "metadata": {},
   "outputs": [],
   "source": [
    "lat = []\n",
    "long = []\n",
    "URL = \"http://www.mapquestapi.com/geocoding/v1/address\"\n",
    "key = 'HzjEaxjIAd6W3twcNYGGz0krf1A7SZOY'\n",
    "\n",
    "for i in range(len(li)): \n",
    "    location = li[i] + ' INDIA'\n",
    "    PARAMS = {'location':location, 'key':key} \n",
    "    r = requests.get(url = URL, params = PARAMS) \n",
    "    data = r.json()\n",
    "    latLong = data['results'][0]['locations'][0]['latLng']\n",
    "    lat.append(latLong['lat'])\n",
    "    long.append(latLong['lng'])"
   ]
  }
 ],
 "metadata": {
  "kernelspec": {
   "display_name": "Python 3",
   "language": "python",
   "name": "python3"
  },
  "language_info": {
   "codemirror_mode": {
    "name": "ipython",
    "version": 3
   },
   "file_extension": ".py",
   "mimetype": "text/x-python",
   "name": "python",
   "nbconvert_exporter": "python",
   "pygments_lexer": "ipython3",
   "version": "3.6.8"
  }
 },
 "nbformat": 4,
 "nbformat_minor": 2
}
